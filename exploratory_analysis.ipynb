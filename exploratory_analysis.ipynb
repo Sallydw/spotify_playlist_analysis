{
 "cells": [
  {
   "cell_type": "code",
   "execution_count": 2,
   "metadata": {},
   "outputs": [
    {
     "name": "stderr",
     "output_type": "stream",
     "text": [
      "/Users/dongfangwang/PycharmProjects/spotify_playlist_analysis/venv/lib/python3.9/site-packages/urllib3/__init__.py:34: NotOpenSSLWarning: urllib3 v2.0 only supports OpenSSL 1.1.1+, currently the 'ssl' module is compiled with 'LibreSSL 2.8.3'. See: https://github.com/urllib3/urllib3/issues/3020\n",
      "  warnings.warn(\n"
     ]
    }
   ],
   "source": [
    "from env import Env\n",
    "import openai\n",
    "import spotipy\n",
    "import json\n",
    "from spotipy.oauth2 import SpotifyClientCredentials \n"
   ]
  },
  {
   "cell_type": "code",
   "execution_count": 3,
   "metadata": {},
   "outputs": [],
   "source": [
    "# load API keys from .env file\n",
    "openai.api_key = Env.OPEN_AI_KEY\n",
    "spotify = spotipy.Spotify(client_credentials_manager=SpotifyClientCredentials())"
   ]
  },
  {
   "cell_type": "markdown",
   "metadata": {},
   "source": [
    "## Create playlist using ChatGPT\n",
    "Create seed playlist with ChatGPT for song characteristic analysis.\n",
    "\n",
    "**\\#PromptEngineering \\#ChatGPT**"
   ]
  },
  {
   "cell_type": "code",
   "execution_count": 13,
   "metadata": {},
   "outputs": [
    {
     "name": "stdout",
     "output_type": "stream",
     "text": [
      "{\n",
      "    \"playlist_name\": \"High Tempo Hits\",\n",
      "    \"playlist_description\": \"A collection of 30 high tempo songs to keep you energised and motivated\",\n",
      "    \"playlist_tracks\": [\n",
      "        \"Uptown Funk\",\n",
      "        \"Bad Guy\",\n",
      "        \"Despacito\",\n",
      "        \"Don't Stop Believin'\",\n",
      "        \"Born To Run\",\n",
      "        \"Can't Hold Us\",\n",
      "        \"Bohemian Rhapsody\",\n",
      "        \"Dance Monkey\",\n",
      "        \"Eye of the Tiger\",\n",
      "        \"Footloose\",\n",
      "        \"Happy\",\n",
      "        \"I Gotta Feeling\",\n",
      "        \"Let's Get Loud\",\n",
      "        \"Livin' On A Prayer\",\n",
      "        \"One More Time\",\n",
      "        \"Roar\",\n",
      "        \"Shape of You\",\n",
      "        \"Smooth\",\n",
      "        \"Sweet Child O' Mine\",\n",
      "        \"Sweet Victory\",\n",
      "        \"Take On Me\",\n",
      "        \"That's What I Like\",\n",
      "        \"The Middle\",\n",
      "        \"Toxic\",\n",
      "        \"U Can't Touch This\",\n",
      "        \"Waka Waka (This Time for Africa)\",\n",
      "        \"Wake Me Up Before You Go-Go\",\n",
      "        \"WAP\",\n",
      "        \"We Will Rock You\",\n",
      "        \"Yeah!\"\n",
      "    ]\n",
      "}\n"
     ]
    }
   ],
   "source": [
    "response=openai.ChatCompletion.create(\n",
    "    model='gpt-4',\n",
    "    messages=[\n",
    "        {\n",
    "            'role':'system',\n",
    "            'content':\n",
    "            \"\"\"\n",
    "            You are a music playlist designer.  You create playlists for people based on different inputs.\n",
    "\n",
    "            Output all playlists in the following JSON format: \n",
    "\n",
    "            {\n",
    "                \"playlist_name\": \"<name>\",\n",
    "                \"playlist_description\": \"<description>\",\n",
    "                \"playlist_tracks\": [\n",
    "                    \"<track_name_1>\",\n",
    "                    \"<track_name_2>\",\n",
    "                    ...\n",
    "                ]\n",
    "            }\n",
    "\n",
    "            Replace <track_name_n> with just the name of the song (do not add the artist) that you want in the playlist. \n",
    "\n",
    "            If you don't know what to do, type \"help\". \n",
    "\n",
    "            I want you to return in a json format only and not any extra text. \n",
    "            \n",
    "\n",
    "            \"\"\"\n",
    "        },\n",
    "        {\n",
    "            'role':'user',\n",
    "            'content':'Can you create me a high tempo playlist of 30 songs?'\n",
    "        }\n",
    "\n",
    "    \n",
    "\n",
    "    ]\n",
    "\n",
    ")\n",
    "print(response.choices[0]['message']['content'])"
   ]
  },
  {
   "cell_type": "markdown",
   "metadata": {},
   "source": [
    "## Enrich songs with Spotify data\n",
    "Use the Spotify API to add features to the songs for further analysis.\n",
    "\n",
    "**\\#WebAPI \\#DataEnrichment**"
   ]
  },
  {
   "cell_type": "code",
   "execution_count": 39,
   "metadata": {},
   "outputs": [],
   "source": [
    "# extract songs from text response\n",
    "songs=json.loads(response.choices[0]['message']['content'])['playlist_tracks']\n",
    "\n",
    "# filter song attributes from spotify\n",
    "filter_song = lambda song: ({\n",
    "    'id': song['id'],\n",
    "    'name': song['name'],\n",
    "    'artist': song['artists'][0]['name'],\n",
    "    'album': song['album']['name'],\n",
    "    'length': song['duration_ms'],\n",
    "    'explicit': song['explicit'],\n",
    "    'popularity': song['popularity'],\n",
    "    'type': song['type']\n",
    "}) \n",
    "\n",
    "spotify_songs = [ \n",
    "    filter_song(spotify.search(song)['tracks']['items'][0]) \n",
    "    for song in songs \n",
    "]\n",
    "spotify_songs"
   ]
  }
 ],
 "metadata": {
  "kernelspec": {
   "display_name": "venv",
   "language": "python",
   "name": "python3"
  },
  "language_info": {
   "codemirror_mode": {
    "name": "ipython",
    "version": 3
   },
   "file_extension": ".py",
   "mimetype": "text/x-python",
   "name": "python",
   "nbconvert_exporter": "python",
   "pygments_lexer": "ipython3",
   "version": "3.9.6"
  },
  "orig_nbformat": 4
 },
 "nbformat": 4,
 "nbformat_minor": 2
}
