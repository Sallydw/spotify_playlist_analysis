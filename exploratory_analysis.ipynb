{
 "cells": [
  {
   "cell_type": "code",
   "execution_count": 1,
   "metadata": {},
   "outputs": [
    {
     "name": "stderr",
     "output_type": "stream",
     "text": [
      "/Users/dongfangwang/PycharmProjects/spotify_playlist_analysis/venv/lib/python3.9/site-packages/urllib3/__init__.py:34: NotOpenSSLWarning: urllib3 v2.0 only supports OpenSSL 1.1.1+, currently the 'ssl' module is compiled with 'LibreSSL 2.8.3'. See: https://github.com/urllib3/urllib3/issues/3020\n",
      "  warnings.warn(\n"
     ]
    }
   ],
   "source": [
    "from env import Env\n",
    "import openai\n",
    "import spotipy\n",
    "from spotipy.oauth2 import SpotifyClientCredentials \n"
   ]
  },
  {
   "cell_type": "markdown",
   "metadata": {},
   "source": []
  },
  {
   "cell_type": "code",
   "execution_count": 2,
   "metadata": {},
   "outputs": [],
   "source": [
    "# load API keys from .env file\n",
    "openai.api_key = Env.OPEN_AI_KEY\n",
    "spotify = spotipy.Spotify(client_credentials_manager=SpotifyClientCredentials())"
   ]
  },
  {
   "cell_type": "code",
   "execution_count": 18,
   "metadata": {},
   "outputs": [],
   "source": [
    "response=openai.ChatCompletion.create(\n",
    "    model='gpt-4',\n",
    "    messages=[\n",
    "        {\n",
    "            'role':'system',\n",
    "            'content':\n",
    "            \"\"\"\n",
    "            You are a music playlist designer.  You create playlists for people based on different inputs.\n",
    "\n",
    "            Output all playlists in the following JSON format: \n",
    "\n",
    "            {\n",
    "                \"playlist_name\": \"<name>\",\n",
    "                \"playlist_description\": \"<description>\",\n",
    "                \"playlist_tracks\": [\n",
    "                    \"<track 1>\",\n",
    "                    \"<track 2>\",\n",
    "                    ...\n",
    "                ]\n",
    "            }\n",
    "\n",
    "            If you don't know what to do, type \"help\". \n",
    "\n",
    "            I want you to return in a json format only and not any extra text. \n",
    "\n",
    "            \"\"\"\n",
    "        },\n",
    "        {\n",
    "            'role':'user',\n",
    "            'content':'Can you create me a high tempo playlist of 30 songs?'\n",
    "        }\n",
    "\n",
    "    \n",
    "\n",
    "    ]\n",
    "\n",
    ")\n",
    "print(response.choices[0]['message']['content'])"
   ]
  },
  {
   "cell_type": "code",
   "execution_count": 19,
   "metadata": {},
   "outputs": [
    {
     "name": "stdout",
     "output_type": "stream",
     "text": [
      "{\n",
      "    \"playlist_name\": \"High Tempo Hits\",\n",
      "    \"playlist_description\": \"A selection of 30 energetic and upbeat songs to keep you moving and your heart pumping.\",\n",
      "    \"playlist_tracks\": [\n",
      "        \"Uptown Funk - Mark Ronson ft. Bruno Mars\",\n",
      "        \"Sandstorm - Darude\",\n",
      "        \"Levels - Avicii\",\n",
      "        \"Work - Rihanna ft. Drake\",\n",
      "        \"Can't Hold Us - Macklemore & Ryan Lewis\",\n",
      "        \"Titanium - David Guetta ft. Sia\",\n",
      "        \"Wake Me Up - Avicii\",\n",
      "        \"Happy - Pharrell Williams\",\n",
      "        \"Turn Down For What - DJ Snake, Lil Jon\",\n",
      "        \"Get Lucky - Daft Punk ft. Pharrell\",\n",
      "        \"Shape of You - Ed Sheeran\",\n",
      "        \"Don't Stop Believin' - Journey\",\n",
      "        \"Party Rock Anthem - LMFAO\",\n",
      "        \"Blinding Lights - The Weeknd\",\n",
      "        \"Club Can't Handle Me - Flo Rida\",\n",
      "        \"Beautiful Now - Zedd\",\n",
      "        \"Closer - The Chainsmokers ft. Halsey\",\n",
      "        \"Moves Like Jagger - Maroon 5 ft. Christina Aguilera\",\n",
      "        \"This Is What You Came For - Calvin Harris ft. Rihanna\",\n",
      "        \"High Hopes - Panic! At The Disco\",\n",
      "        \"Something Just Like This - The Chainsmokers ft. Coldplay\",\n",
      "        \"Low - Flo Rida ft. T-Pain\",\n",
      "        \"Firework - Katy Perry\",\n",
      "        \"Super Bass - Nicki Minaj\",\n",
      "        \"Call Me Maybe - Carly Rae Jepsen\",\n",
      "        \"Wannabe - Spice Girls\",\n",
      "        \"Jump - Van Halen\",\n",
      "        \"I Gotta Feeling - Black Eyed Peas\",\n",
      "        \"Starships - Nicki Minaj\",\n",
      "        \"Living on a Prayer - Bon Jovi\"\n",
      "    ]\n",
      "}\n"
     ]
    }
   ],
   "source": [
    "print(response.choices[0]['message']['content'])"
   ]
  },
  {
   "cell_type": "code",
   "execution_count": 21,
   "metadata": {},
   "outputs": [
    {
     "data": {
      "text/plain": [
       "['Uptown Funk - Mark Ronson ft. Bruno Mars',\n",
       " 'Sandstorm - Darude',\n",
       " 'Levels - Avicii',\n",
       " 'Work - Rihanna ft. Drake',\n",
       " \"Can't Hold Us - Macklemore & Ryan Lewis\",\n",
       " 'Titanium - David Guetta ft. Sia',\n",
       " 'Wake Me Up - Avicii',\n",
       " 'Happy - Pharrell Williams',\n",
       " 'Turn Down For What - DJ Snake, Lil Jon',\n",
       " 'Get Lucky - Daft Punk ft. Pharrell',\n",
       " 'Shape of You - Ed Sheeran',\n",
       " \"Don't Stop Believin' - Journey\",\n",
       " 'Party Rock Anthem - LMFAO',\n",
       " 'Blinding Lights - The Weeknd',\n",
       " \"Club Can't Handle Me - Flo Rida\",\n",
       " 'Beautiful Now - Zedd',\n",
       " 'Closer - The Chainsmokers ft. Halsey',\n",
       " 'Moves Like Jagger - Maroon 5 ft. Christina Aguilera',\n",
       " 'This Is What You Came For - Calvin Harris ft. Rihanna',\n",
       " 'High Hopes - Panic! At The Disco',\n",
       " 'Something Just Like This - The Chainsmokers ft. Coldplay',\n",
       " 'Low - Flo Rida ft. T-Pain',\n",
       " 'Firework - Katy Perry',\n",
       " 'Super Bass - Nicki Minaj',\n",
       " 'Call Me Maybe - Carly Rae Jepsen',\n",
       " 'Wannabe - Spice Girls',\n",
       " 'Jump - Van Halen',\n",
       " 'I Gotta Feeling - Black Eyed Peas',\n",
       " 'Starships - Nicki Minaj',\n",
       " 'Living on a Prayer - Bon Jovi']"
      ]
     },
     "execution_count": 21,
     "metadata": {},
     "output_type": "execute_result"
    }
   ],
   "source": [
    "import json\n",
    "songs=json.loads(response.choices[0]['message']['content'])['playlist_tracks']\n",
    "songs"
   ]
  },
  {
   "cell_type": "code",
   "execution_count": null,
   "metadata": {},
   "outputs": [],
   "source": []
  }
 ],
 "metadata": {
  "kernelspec": {
   "display_name": "venv",
   "language": "python",
   "name": "python3"
  },
  "language_info": {
   "codemirror_mode": {
    "name": "ipython",
    "version": 3
   },
   "file_extension": ".py",
   "mimetype": "text/x-python",
   "name": "python",
   "nbconvert_exporter": "python",
   "pygments_lexer": "ipython3",
   "version": "3.9.6"
  },
  "orig_nbformat": 4
 },
 "nbformat": 4,
 "nbformat_minor": 2
}
